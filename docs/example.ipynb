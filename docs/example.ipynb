{
 "cells": [
  {
   "cell_type": "markdown",
   "metadata": {},
   "source": [
    "# Using Pypbomb"
   ]
  },
  {
   "cell_type": "markdown",
   "metadata": {},
   "source": [
    "Let's go over some quick examples of how you might use pypbomb to design a detonation tube for your research."
   ]
  },
  {
   "cell_type": "code",
   "execution_count": 1,
   "metadata": {},
   "outputs": [],
   "source": [
    "from itertools import product\n",
    "import warnings\n",
    "\n",
    "import cantera as ct\n",
    "import numpy as np\n",
    "import pandas as pd\n",
    "import pint\n",
    "import seaborn as sns\n",
    "from matplotlib import pyplot as plt\n",
    "from matplotlib.ticker import MaxNLocator\n",
    "\n",
    "from pypbomb import tube\n",
    "\n",
    "ureg = pint.UnitRegistry()\n",
    "quant = ureg.Quantity\n",
    "\n",
    "sns.set_context(\"notebook\")\n",
    "sns.set_style(\"white\")"
   ]
  },
  {
   "cell_type": "markdown",
   "metadata": {},
   "source": [
    "## Determine tube size and operating limits"
   ]
  },
  {
   "cell_type": "markdown",
   "metadata": {},
   "source": [
    "First let us pick a mixture of stoichiometric propane/air. For this example we will use ``gri30.cti`` as the mechanism of choice for our Cantera calculations."
   ]
  },
  {
   "cell_type": "code",
   "execution_count": 2,
   "metadata": {},
   "outputs": [],
   "source": [
    "fuel = \"C3H8\"\n",
    "oxidizer = \"O2:1 N2:3.76\"\n",
    "material = \"316L\"\n",
    "mechanism = \"gri30.cti\"\n",
    "gas = ct.Solution(mechanism)\n",
    "gas.set_equivalence_ratio(1, fuel, oxidizer)"
   ]
  },
  {
   "cell_type": "markdown",
   "metadata": {},
   "source": [
    "Next, let's consider 316L since it's a commonly used stainless steel."
   ]
  },
  {
   "cell_type": "code",
   "execution_count": 3,
   "metadata": {},
   "outputs": [],
   "source": [
    "material = \"316L\""
   ]
  },
  {
   "cell_type": "markdown",
   "metadata": {},
   "source": [
    "At this point we should probably figure out which schedules are available across all of the potential pipe sizes that we'd like to consider."
   ]
  },
  {
   "cell_type": "code",
   "execution_count": 4,
   "metadata": {},
   "outputs": [
    {
     "data": {
      "text/plain": [
       "{'10', '10s', '160', '40', '40s', '5', '5s', '80', '80s', 'XXH'}"
      ]
     },
     "execution_count": 4,
     "metadata": {},
     "output_type": "execute_result"
    }
   ],
   "source": [
    "potential_sizes = [\"1\", \"3\", \"4\", \"6\"]\n",
    "common_sizes = set(tube.Tube.get_available_pipe_schedules(potential_sizes[0]))\n",
    "for size in potential_sizes[1:]:\n",
    "    common_sizes.intersection_update(\n",
    "        set(tube.Tube.get_available_pipe_schedules(size))\n",
    "    )\n",
    "common_sizes"
   ]
  },
  {
   "cell_type": "markdown",
   "metadata": {},
   "source": [
    "Given these options, let's choose schedules 40, 80, 120, and XXH for consideration."
   ]
  },
  {
   "cell_type": "code",
   "execution_count": 5,
   "metadata": {},
   "outputs": [],
   "source": [
    "potential_schedules = [\"40\", \"80\", \"XXH\"]"
   ]
  },
  {
   "cell_type": "markdown",
   "metadata": {},
   "source": [
    "Let's also look at a range of operating temperatures, in case we need to preheat our tube."
   ]
  },
  {
   "cell_type": "code",
   "execution_count": 6,
   "metadata": {},
   "outputs": [],
   "source": [
    "initial_temperatures = quant(\n",
    "    np.linspace(20, 400, 6),\n",
    "    \"degC\"\n",
    ")"
   ]
  },
  {
   "cell_type": "markdown",
   "metadata": {},
   "source": [
    "Now let's figure out what we can do with each combination of pipe size, pipe schedule, and initial temperature. The steps we will use for each combination are:\n",
    "\n",
    "1. look up the tube dimensions,\n",
    "2. look up the maximum allowable stress,\n",
    "3. calculate the corresponding maximum pressure,\n",
    "4. look up the elastic modulus, density, and Poisson ratio of our tube material, and\n",
    "5. calculate the maximum safe initial pressure that we can test at.\n",
    "\n",
    "Note that we are setting ``multiprocessing=False``, since multiprocessing can cause unexpected misbehavior when run from within a jupyter notebook."
   ]
  },
  {
   "cell_type": "code",
   "execution_count": 7,
   "metadata": {},
   "outputs": [],
   "source": [
    "calculate_results = False\n",
    "results_file = \"tube_size_results.h5\"\n",
    "\n",
    "combinations = list(\n",
    "    product(\n",
    "        potential_schedules,\n",
    "        potential_sizes,\n",
    "        initial_temperatures\n",
    "    )\n",
    ")\n",
    "if calculate_results:\n",
    "    results = pd.DataFrame(\n",
    "        columns=[\n",
    "            \"schedule\",\n",
    "            \"size\",\n",
    "            \"max initial pressure (psi)\",\n",
    "            \"initial temperature (F)\",\n",
    "            \"tube_temp\",\n",
    "            \"max_pressure\",\n",
    "            \"DLF\",\n",
    "        ]\n",
    "    )\n",
    "    for i, (schedule, size, initial_temperature) in enumerate(combinations):\n",
    "        dims = tube.Tube.get_dimensions(\n",
    "            size,\n",
    "            schedule,\n",
    "            unit_registry=ureg\n",
    "        )\n",
    "        max_stress = tube.Tube.calculate_max_stress(\n",
    "            initial_temperature,\n",
    "            material,\n",
    "            welded=False,\n",
    "            unit_registry=ureg\n",
    "        )\n",
    "        max_pressure = tube.Tube.calculate_max_pressure(\n",
    "            dims[\"inner_diameter\"],\n",
    "            dims[\"outer_diameter\"],\n",
    "            max_stress\n",
    "        )\n",
    "        elastic_modulus = tube.Tube.get_elastic_modulus(material, ureg)\n",
    "        density = tube.Tube.get_density(material, ureg)\n",
    "        poisson = tube.Tube.get_poisson(material)\n",
    "        initial_pressure, dlf = tube.Tube.calculate_max_initial_pressure(\n",
    "            dims[\"inner_diameter\"],\n",
    "            dims[\"outer_diameter\"],\n",
    "            initial_temperature,\n",
    "            gas.mole_fraction_dict(),\n",
    "            mechanism,\n",
    "            max_pressure.to(\"Pa\"),\n",
    "            elastic_modulus,\n",
    "            density,\n",
    "            poisson,\n",
    "            use_multiprocessing=False,\n",
    "            return_dlf=True\n",
    "        )\n",
    "\n",
    "        current_results = pd.Series(dtype=\"object\")\n",
    "        current_results[\"schedule\"] = schedule\n",
    "        current_results[\"size\"] = size\n",
    "        current_results[\"max initial pressure (psi)\"] = \\\n",
    "        initial_pressure.to(\"psi\").magnitude\n",
    "        current_results[\"initial temperature (F)\"] = \\\n",
    "            initial_temperature.to(\"degF\").magnitude\n",
    "        current_results[\"tube_temp\"] = initial_temperature\n",
    "        current_results[\"max_pressure\"] = max_pressure\n",
    "        current_results[\"inner_diameter\"] = dims[\"inner_diameter\"]\n",
    "        current_results[\"DLF\"] = dlf\n",
    "        results = pd.concat(\n",
    "            (results, current_results.to_frame().T),\n",
    "            ignore_index=True\n",
    "        )\n",
    "    \n",
    "    float_keys = [\n",
    "        \"max initial pressure (psi)\",\n",
    "        \"initial temperature (F)\",\n",
    "        \"DLF\"\n",
    "    ]\n",
    "    results[float_keys] = results[float_keys].astype(float)\n",
    "    \n",
    "    with warnings.catch_warnings():\n",
    "        warnings.simplefilter(\"ignore\")\n",
    "        with pd.HDFStore(results_file, \"w\") as store:\n",
    "            store.put(\"data\", results)\n",
    "\n",
    "else:\n",
    "    with pd.HDFStore(results_file, \"r\") as store:\n",
    "        results = store.data\n",
    "        "
   ]
  },
  {
   "cell_type": "code",
   "execution_count": 8,
   "metadata": {},
   "outputs": [
    {
     "data": {
      "image/png": "[encoded data removed]",
      "text/plain": [
       "<Figure size 809.225x360 with 4 Axes>"
      ]
     },
     "metadata": {},
     "output_type": "display_data"
    }
   ],
   "source": [
    "sns.relplot(\n",
    "    x=\"initial temperature (F)\",\n",
    "    y=\"max initial pressure (psi)\",\n",
    "    col=\"size\",\n",
    "    style=\"schedule\",\n",
    "    kind=\"line\",\n",
    "    data=results,\n",
    "    aspect=0.5\n",
    ")\n",
    "sns.despine()"
   ]
  },
  {
   "cell_type": "markdown",
   "metadata": {},
   "source": [
    "Here we have operating limits for our mixture over varying initial temperatures across three schedules and four pipe sizes. At NPS 3 something interesting happens: schedule 80 pipe has a lower initial pressure than schedule 40 pipe. This is caused by the dynamic load factor, as shown below."
   ]
  },
  {
   "cell_type": "code",
   "execution_count": 9,
   "metadata": {},
   "outputs": [
    {
     "data": {
      "image/png": "[encoded data removed]",
      "text/plain": [
       "<Figure size 720x360 with 4 Axes>"
      ]
     },
     "metadata": {},
     "output_type": "display_data"
    }
   ],
   "source": [
    "sns.catplot(\n",
    "    x=\"schedule\",\n",
    "    y=\"DLF\",\n",
    "    col=\"size\",\n",
    "    kind=\"bar\",\n",
    "    data=results,\n",
    "    aspect=0.5\n",
    ");"
   ]
  },
  {
   "cell_type": "markdown",
   "metadata": {},
   "source": [
    "Let us select NPS 6 schedule 80 pipe for the main section of our detonation tube, in order to maximize the size of the viewing windows and allow for a wider range of cell sizes to be captured by our camera."
   ]
  },
  {
   "cell_type": "code",
   "execution_count": 10,
   "metadata": {},
   "outputs": [
    {
     "data": {
      "text/html": [
       "<div>\n",
       "<style scoped>\n",
       "    .dataframe tbody tr th:only-of-type {\n",
       "        vertical-align: middle;\n",
       "    }\n",
       "\n",
       "    .dataframe tbody tr th {\n",
       "        vertical-align: top;\n",
       "    }\n",
       "\n",
       "    .dataframe thead th {\n",
       "        text-align: right;\n",
       "    }\n",
       "</style>\n",
       "<table border=\"1\" class=\"dataframe\">\n",
       "  <thead>\n",
       "    <tr style=\"text-align: right;\">\n",
       "      <th></th>\n",
       "      <th>schedule</th>\n",
       "      <th>size</th>\n",
       "      <th>tube_temp</th>\n",
       "      <th>max_pressure</th>\n",
       "      <th>DLF</th>\n",
       "      <th>inner_diameter</th>\n",
       "    </tr>\n",
       "  </thead>\n",
       "  <tbody>\n",
       "    <tr>\n",
       "      <th>42</th>\n",
       "      <td>80</td>\n",
       "      <td>6</td>\n",
       "      <td>20.0 degree_Celsius</td>\n",
       "      <td>2.1903439367027286 kip_per_square_inch</td>\n",
       "      <td>2.0</td>\n",
       "      <td>5.761 inch</td>\n",
       "    </tr>\n",
       "    <tr>\n",
       "      <th>43</th>\n",
       "      <td>80</td>\n",
       "      <td>6</td>\n",
       "      <td>96.0 degree_Celsius</td>\n",
       "      <td>1.846139060229291 kip_per_square_inch</td>\n",
       "      <td>2.0</td>\n",
       "      <td>5.761 inch</td>\n",
       "    </tr>\n",
       "    <tr>\n",
       "      <th>44</th>\n",
       "      <td>80</td>\n",
       "      <td>6</td>\n",
       "      <td>172.0 degree_Celsius</td>\n",
       "      <td>1.5963561440335863 kip_per_square_inch</td>\n",
       "      <td>2.0</td>\n",
       "      <td>5.761 inch</td>\n",
       "    </tr>\n",
       "    <tr>\n",
       "      <th>45</th>\n",
       "      <td>80</td>\n",
       "      <td>6</td>\n",
       "      <td>248.0 degree_Celsius</td>\n",
       "      <td>1.4192312611012432 kip_per_square_inch</td>\n",
       "      <td>2.0</td>\n",
       "      <td>5.761 inch</td>\n",
       "    </tr>\n",
       "    <tr>\n",
       "      <th>46</th>\n",
       "      <td>80</td>\n",
       "      <td>6</td>\n",
       "      <td>324.0 degree_Celsius</td>\n",
       "      <td>1.3029337639270142 kip_per_square_inch</td>\n",
       "      <td>2.0</td>\n",
       "      <td>5.761 inch</td>\n",
       "    </tr>\n",
       "    <tr>\n",
       "      <th>47</th>\n",
       "      <td>80</td>\n",
       "      <td>6</td>\n",
       "      <td>400.0 degree_Celsius</td>\n",
       "      <td>1.2265926045535283 kip_per_square_inch</td>\n",
       "      <td>2.0</td>\n",
       "      <td>5.761 inch</td>\n",
       "    </tr>\n",
       "  </tbody>\n",
       "</table>\n",
       "</div>"
      ],
      "text/plain": [
       "   schedule size             tube_temp  \\\n",
       "42       80    6   20.0 degree_Celsius   \n",
       "43       80    6   96.0 degree_Celsius   \n",
       "44       80    6  172.0 degree_Celsius   \n",
       "45       80    6  248.0 degree_Celsius   \n",
       "46       80    6  324.0 degree_Celsius   \n",
       "47       80    6  400.0 degree_Celsius   \n",
       "\n",
       "                              max_pressure  DLF inner_diameter  \n",
       "42  2.1903439367027286 kip_per_square_inch  2.0     5.761 inch  \n",
       "43   1.846139060229291 kip_per_square_inch  2.0     5.761 inch  \n",
       "44  1.5963561440335863 kip_per_square_inch  2.0     5.761 inch  \n",
       "45  1.4192312611012432 kip_per_square_inch  2.0     5.761 inch  \n",
       "46  1.3029337639270142 kip_per_square_inch  2.0     5.761 inch  \n",
       "47  1.2265926045535283 kip_per_square_inch  2.0     5.761 inch  "
      ]
     },
     "execution_count": 10,
     "metadata": {},
     "output_type": "execute_result"
    }
   ],
   "source": [
    "nps_main = \"6\"\n",
    "schedule_main = \"80\"\n",
    "results_main = results[\n",
    "    (results[\"size\"] == nps_main) &\n",
    "    (results[\"schedule\"] == schedule_main)\n",
    "].copy()\n",
    "results_original = results_main[\n",
    "    [\"max initial pressure (psi)\",\n",
    "     \"initial temperature (F)\"]].astype(float)\n",
    "results_main.drop(\n",
    "    [\"max initial pressure (psi)\",\n",
    "     \"initial temperature (F)\"],\n",
    "    axis=1,\n",
    "    inplace=True\n",
    ")\n",
    "results_main"
   ]
  },
  {
   "cell_type": "markdown",
   "metadata": {},
   "source": [
    "With operational limits for the main detonation section out of the way, let's consider a smaller, parallel tube with an internal fan to facilitate reactant mixing. Let's also try to use schedule 40, since it is cheaper and more readily available than schedule 80. An important thing to check here is that the mixing section can handle at least as much pressure as the main section."
   ]
  },
  {
   "cell_type": "code",
   "execution_count": 11,
   "metadata": {},
   "outputs": [
    {
     "name": "stdout",
     "output_type": "stream",
     "text": [
      "Mix tube is safe :)\n"
     ]
    },
    {
     "data": {
      "text/html": [
       "<div>\n",
       "<style scoped>\n",
       "    .dataframe tbody tr th:only-of-type {\n",
       "        vertical-align: middle;\n",
       "    }\n",
       "\n",
       "    .dataframe tbody tr th {\n",
       "        vertical-align: top;\n",
       "    }\n",
       "\n",
       "    .dataframe thead th {\n",
       "        text-align: right;\n",
       "    }\n",
       "</style>\n",
       "<table border=\"1\" class=\"dataframe\">\n",
       "  <thead>\n",
       "    <tr style=\"text-align: right;\">\n",
       "      <th></th>\n",
       "      <th>schedule</th>\n",
       "      <th>size</th>\n",
       "      <th>tube_temp</th>\n",
       "      <th>max_pressure</th>\n",
       "      <th>DLF</th>\n",
       "      <th>max_main_pressure</th>\n",
       "      <th>safe</th>\n",
       "    </tr>\n",
       "  </thead>\n",
       "  <tbody>\n",
       "    <tr>\n",
       "      <th>0</th>\n",
       "      <td>40</td>\n",
       "      <td>1</td>\n",
       "      <td>20.0 degree_Celsius</td>\n",
       "      <td>3.5331641285956006 kip_per_square_inch</td>\n",
       "      <td>4.0</td>\n",
       "      <td>2.1903439367027286 kip_per_square_inch</td>\n",
       "      <td>True</td>\n",
       "    </tr>\n",
       "    <tr>\n",
       "      <th>1</th>\n",
       "      <td>40</td>\n",
       "      <td>1</td>\n",
       "      <td>96.0 degree_Celsius</td>\n",
       "      <td>2.9779397631133677 kip_per_square_inch</td>\n",
       "      <td>4.0</td>\n",
       "      <td>1.846139060229291 kip_per_square_inch</td>\n",
       "      <td>True</td>\n",
       "    </tr>\n",
       "    <tr>\n",
       "      <th>2</th>\n",
       "      <td>40</td>\n",
       "      <td>1</td>\n",
       "      <td>172.0 degree_Celsius</td>\n",
       "      <td>2.5750240270727587 kip_per_square_inch</td>\n",
       "      <td>4.0</td>\n",
       "      <td>1.5963561440335863 kip_per_square_inch</td>\n",
       "      <td>True</td>\n",
       "    </tr>\n",
       "    <tr>\n",
       "      <th>3</th>\n",
       "      <td>40</td>\n",
       "      <td>1</td>\n",
       "      <td>248.0 degree_Celsius</td>\n",
       "      <td>2.289310321489002 kip_per_square_inch</td>\n",
       "      <td>4.0</td>\n",
       "      <td>1.4192312611012432 kip_per_square_inch</td>\n",
       "      <td>True</td>\n",
       "    </tr>\n",
       "    <tr>\n",
       "      <th>4</th>\n",
       "      <td>40</td>\n",
       "      <td>1</td>\n",
       "      <td>324.0 degree_Celsius</td>\n",
       "      <td>2.1017150592216587 kip_per_square_inch</td>\n",
       "      <td>4.0</td>\n",
       "      <td>1.3029337639270142 kip_per_square_inch</td>\n",
       "      <td>True</td>\n",
       "    </tr>\n",
       "    <tr>\n",
       "      <th>5</th>\n",
       "      <td>40</td>\n",
       "      <td>1</td>\n",
       "      <td>400.0 degree_Celsius</td>\n",
       "      <td>1.9785719120135372 kip_per_square_inch</td>\n",
       "      <td>4.0</td>\n",
       "      <td>1.2265926045535283 kip_per_square_inch</td>\n",
       "      <td>True</td>\n",
       "    </tr>\n",
       "  </tbody>\n",
       "</table>\n",
       "</div>"
      ],
      "text/plain": [
       "  schedule size             tube_temp                            max_pressure  \\\n",
       "0       40    1   20.0 degree_Celsius  3.5331641285956006 kip_per_square_inch   \n",
       "1       40    1   96.0 degree_Celsius  2.9779397631133677 kip_per_square_inch   \n",
       "2       40    1  172.0 degree_Celsius  2.5750240270727587 kip_per_square_inch   \n",
       "3       40    1  248.0 degree_Celsius   2.289310321489002 kip_per_square_inch   \n",
       "4       40    1  324.0 degree_Celsius  2.1017150592216587 kip_per_square_inch   \n",
       "5       40    1  400.0 degree_Celsius  1.9785719120135372 kip_per_square_inch   \n",
       "\n",
       "   DLF                       max_main_pressure  safe  \n",
       "0  4.0  2.1903439367027286 kip_per_square_inch  True  \n",
       "1  4.0   1.846139060229291 kip_per_square_inch  True  \n",
       "2  4.0  1.5963561440335863 kip_per_square_inch  True  \n",
       "3  4.0  1.4192312611012432 kip_per_square_inch  True  \n",
       "4  4.0  1.3029337639270142 kip_per_square_inch  True  \n",
       "5  4.0  1.2265926045535283 kip_per_square_inch  True  "
      ]
     },
     "execution_count": 11,
     "metadata": {},
     "output_type": "execute_result"
    }
   ],
   "source": [
    "nps_mix = \"1\"\n",
    "schedule_mix = \"40\"\n",
    "results_mix = results[\n",
    "    (results[\"size\"] == nps_mix) &\n",
    "    (results[\"schedule\"] == schedule_mix)\n",
    "].drop(\n",
    "    [\"max initial pressure (psi)\",\n",
    "     \"initial temperature (F)\",\n",
    "     \"inner_diameter\"],\n",
    "    axis=1\n",
    ")\n",
    "results_mix[\"max_main_pressure\"] = results_main[\"max_pressure\"].values\n",
    "results_mix[\"safe\"] = (results_mix[\"max_pressure\"] > \n",
    "                       results_mix[\"max_main_pressure\"])\n",
    "if all(results_mix[\"safe\"]):\n",
    "    print(\"Mix tube is safe :)\")\n",
    "else:\n",
    "    print(\"Mix tube is unsafe :(\")\n",
    "results_mix"
   ]
  },
  {
   "cell_type": "markdown",
   "metadata": {},
   "source": [
    "## Select proper flanges"
   ]
  },
  {
   "cell_type": "markdown",
   "metadata": {},
   "source": [
    "Now we need to know what class of flanges each of our sections require. For this we will use the maximum system pressure, which is the pressure behind the reflected detonation wave at the maximum allowable initial pressure."
   ]
  },
  {
   "cell_type": "markdown",
   "metadata": {},
   "source": [
    "### Main section"
   ]
  },
  {
   "cell_type": "code",
   "execution_count": 12,
   "metadata": {},
   "outputs": [
    {
     "data": {
      "text/plain": [
       "'1500'"
      ]
     },
     "execution_count": 12,
     "metadata": {},
     "output_type": "execute_result"
    }
   ],
   "source": [
    "results_main[\"flange class\"] = results_main.apply(\n",
    "    lambda x: tube.Flange.get_class(\n",
    "        x[\"max_pressure\"],\n",
    "        x[\"tube_temp\"],\n",
    "        material,\n",
    "        ureg\n",
    "    ),\n",
    "    axis=1\n",
    ")\n",
    "results_main[\"flange class\"].max()"
   ]
  },
  {
   "cell_type": "markdown",
   "metadata": {},
   "source": [
    "### Mixing section"
   ]
  },
  {
   "cell_type": "code",
   "execution_count": 13,
   "metadata": {},
   "outputs": [
    {
     "data": {
      "text/plain": [
       "'1500'"
      ]
     },
     "execution_count": 13,
     "metadata": {},
     "output_type": "execute_result"
    }
   ],
   "source": [
    "results_mix[\"flange class\"] = results_mix.apply(\n",
    "    lambda x: tube.Flange.get_class(\n",
    "        x[\"max_main_pressure\"],\n",
    "        x[\"tube_temp\"],\n",
    "        material,\n",
    "        ureg\n",
    "    ),\n",
    "    axis=1\n",
    ")\n",
    "results_mix[\"flange class\"].max()"
   ]
  },
  {
   "cell_type": "markdown",
   "metadata": {},
   "source": [
    "## Determine window dimensions and bolt pattern"
   ]
  },
  {
   "cell_type": "markdown",
   "metadata": {},
   "source": [
    "### Window Dimensions"
   ]
  },
  {
   "cell_type": "markdown",
   "metadata": {},
   "source": [
    "Since our main tube is NPS-6 schedule 80 pipe, the inner diameter is 5.76 inches. Therefore, let's design a viewing section with a visible window height of 5.75 inches. First, let's figure out how thick a fused quartz window needs to be in order to have a safety factor of 4. Also, let's try to constrain ourselves to keeping the window thickness under 1 inch if we can."
   ]
  },
  {
   "cell_type": "code",
   "execution_count": 14,
   "metadata": {},
   "outputs": [],
   "source": [
    "window_height = quant(5.75, \"in\")\n",
    "window_lengths = np.linspace(0.25, 7, 100)\n",
    "window_thicknesses = tube.Window.minimum_thickness(\n",
    "    length=window_height,\n",
    "    width=quant(window_lengths, \"in\"),\n",
    "    safety_factor=4,\n",
    "    pressure=results_main[\"max_pressure\"].max(),\n",
    "    rupture_modulus=(197.9, \"MPa\"),\n",
    "    unit_registry=ureg\n",
    ").to(\"in\").magnitude"
   ]
  },
  {
   "cell_type": "code",
   "execution_count": 15,
   "metadata": {},
   "outputs": [
    {
     "data": {
      "image/png": "[encoded data removed]",
      "text/plain": [
       "<Figure size 432x288 with 1 Axes>"
      ]
     },
     "metadata": {},
     "output_type": "display_data"
    }
   ],
   "source": [
    "max_desired_thickness = 1  # inch\n",
    "plt.plot(window_lengths, window_thicknesses, \"k\")\n",
    "plt.fill_between(\n",
    "    window_lengths[window_thicknesses <= max_desired_thickness],\n",
    "    window_thicknesses[window_thicknesses <= max_desired_thickness], \n",
    "    0,\n",
    "    color=\"g\",\n",
    "    alpha=0.25,\n",
    "    zorder=-1\n",
    ")\n",
    "plt.xlim([window_lengths.min(), window_lengths.max()])\n",
    "plt.ylim([0, plt.ylim()[1]])\n",
    "plt.xlabel(\"Window length (in)\")\n",
    "plt.ylabel(\"Window thickness (in)\")\n",
    "plt.title(\n",
    "    \"Window minimum thickness vs. length\\n\"\n",
    "    \"Max length {:3.2f} in at {:3.2f} in. thick\".format(\n",
    "        window_lengths[window_thicknesses <= max_desired_thickness].max(),\n",
    "        max_desired_thickness\n",
    "    )\n",
    ")\n",
    "sns.despine()"
   ]
  },
  {
   "cell_type": "markdown",
   "metadata": {},
   "source": [
    "let's go with a 2.25 inch wide window (due to camera limitations), and stick to 1 inch thick. what's the safety factor?"
   ]
  },
  {
   "cell_type": "code",
   "execution_count": 16,
   "metadata": {},
   "outputs": [
    {
     "data": {
      "text/plain": [
       "7.95962038236468"
      ]
     },
     "execution_count": 16,
     "metadata": {},
     "output_type": "execute_result"
    }
   ],
   "source": [
    "window_length = quant(2.25, \"in\")\n",
    "tube.Window.safety_factor(\n",
    "    window_length,\n",
    "    window_height,\n",
    "    quant(1, \"in\"),\n",
    "    pressure=results_main[\"max_pressure\"].max(),\n",
    "    rupture_modulus=quant(197.9, \"MPa\"),    \n",
    ")"
   ]
  },
  {
   "cell_type": "markdown",
   "metadata": {},
   "source": [
    "Nice."
   ]
  },
  {
   "cell_type": "markdown",
   "metadata": {},
   "source": [
    "### Bolt pattern"
   ]
  },
  {
   "cell_type": "markdown",
   "metadata": {},
   "source": [
    "Now let's see how many 1/4-28 grade 8 bolts we need to clamp our window in place if we can tap them 1/2 inch into the viewing section plate."
   ]
  },
  {
   "cell_type": "code",
   "execution_count": 17,
   "metadata": {},
   "outputs": [
    {
     "data": {
      "image/png": "[encoded data removed]",
      "text/plain": [
       "<Figure size 432x288 with 1 Axes>"
      ]
     },
     "metadata": {},
     "output_type": "display_data"
    }
   ],
   "source": [
    "num_bolts = np.array(range(1, 25))\n",
    "bolt_safety_factors = tube.Bolt.calculate_safety_factors(\n",
    "    max_pressure=results_main[\"max_pressure\"].max(),\n",
    "    window_area = window_length * window_height,\n",
    "    num_bolts=num_bolts,\n",
    "    thread_size=\"1/4-28\",\n",
    "    thread_class=\"2\",\n",
    "    bolt_max_tensile=(150, \"kpsi\"),  # grade 8\n",
    "    plate_max_tensile=(485, \"MPa\"),  # 316L,\n",
    "    engagement_length=(0.5, \"in\"),\n",
    "    unit_registry=ureg\n",
    ")\n",
    "\n",
    "fig, ax = plt.subplots()\n",
    "ax.plot(\n",
    "    num_bolts, \n",
    "    bolt_safety_factors[\"bolt\"],\n",
    "    \"k--\",\n",
    "    label=\"bolt\"\n",
    ")\n",
    "ax.plot(\n",
    "    num_bolts, \n",
    "    bolt_safety_factors[\"plate\"],\n",
    "    \"k-.\",\n",
    "    label=\"plate\"\n",
    ")\n",
    "    \n",
    "ax.xaxis.set_major_locator(MaxNLocator(integer=True))\n",
    "ax.legend()\n",
    "ax.set_ylim([0, ax.get_ylim()[1]])\n",
    "ax.set_xlim([num_bolts.min()-1, num_bolts.max()+1])\n",
    "ax.set_xlabel(\"Number of bolts\")\n",
    "ax.set_ylabel(\"Safety factor\")\n",
    "ax.set_title(\"Bolt and plate safety factors vs. number of bolts\")\n",
    "ax.fill_between(\n",
    "    ax.get_xlim(), \n",
    "    2,\n",
    "    zorder=-1,\n",
    "    color=\"r\",\n",
    "    alpha=0.25,\n",
    ")\n",
    "sns.despine()"
   ]
  },
  {
   "cell_type": "markdown",
   "metadata": {},
   "source": [
    "For a safety factor of 2.5, we will need a minimum of 12 bolts. Another important thing to pay attention to: The bolt safety factor is less than the plate safety factor. This is desirable; bolts are much cheaper to replace than a detonation tube, particularly when the part of the tube in question is machined from a very large and expensive piece of stainless steel!"
   ]
  },
  {
   "cell_type": "markdown",
   "metadata": {},
   "source": [
    "## Estimate DDT length"
   ]
  },
  {
   "cell_type": "markdown",
   "metadata": {},
   "source": [
    "Now let's estimate how long it will take a deflagration ignited at one end of the tube to transition into a detonation. The `calculate_blockage_diameter` and `calculate_blockage_ratio` functions included in `tube.DDT` are for a Shchelkin spiral. This is not the only blockage pattern that can be used, however if you want to use an arbitrary blockage you will have to handle blockage ratio calculations on your own. That being said, the `DDT.calculate_run_up` function accepts arguments of blockage ratio and tube diameter, meaning that its only geometric assumption is a circular chamber cross-section."
   ]
  },
  {
   "cell_type": "code",
   "execution_count": 18,
   "metadata": {},
   "outputs": [
    {
     "name": "stdout",
     "output_type": "stream",
     "text": [
      "Target blockage diameter: 0.74 inch\n"
     ]
    }
   ],
   "source": [
    "main_id = results_main[\"inner_diameter\"].iloc[0]\n",
    "target_blockage_diameter = tube.DDT.calculate_blockage_diameter(\n",
    "    main_id,\n",
    "    0.45,\n",
    "    unit_registry=ureg\n",
    ")\n",
    "print(\"Target blockage diameter: {:3.2f}\".format(target_blockage_diameter))"
   ]
  },
  {
   "cell_type": "code",
   "execution_count": 19,
   "metadata": {},
   "outputs": [
    {
     "name": "stdout",
     "output_type": "stream",
     "text": [
      "Actual blockage ratio: 45.3%\n"
     ]
    }
   ],
   "source": [
    "blockage_actual = tube.DDT.calculate_blockage_ratio(\n",
    "    main_id,\n",
    "    (0.75, \"in\"),\n",
    "    unit_registry=ureg\n",
    ")\n",
    "print(\"Actual blockage ratio: {:4.1f}%\".format(blockage_actual*100))"
   ]
  },
  {
   "cell_type": "code",
   "execution_count": 20,
   "metadata": {},
   "outputs": [
    {
     "name": "stdout",
     "output_type": "stream",
     "text": [
      "Runup distance: 6.14 millifurlong\n"
     ]
    }
   ],
   "source": [
    "runup = tube.DDT.calculate_run_up(\n",
    "    blockage_actual,\n",
    "    main_id,\n",
    "    (70, \"degF\"),\n",
    "    (1, \"atm\"),\n",
    "    gas.mole_fraction_dict(),\n",
    "    mechanism,\n",
    "    unit_registry=ureg\n",
    ")\n",
    "print(\"Runup distance: {:1.2f}\".format(runup.to(\"millifurlong\")))"
   ]
  },
  {
   "cell_type": "markdown",
   "metadata": {},
   "source": [
    "Of course, since this package makes use of `pint`, you may use whatever ridiculous units you want for inputs and outputs."
   ]
  },
  {
   "cell_type": "markdown",
   "metadata": {},
   "source": [
    "## Find safe operation limits for a new mixture"
   ]
  },
  {
   "cell_type": "markdown",
   "metadata": {},
   "source": [
    "Finally, since the dynamic load factor is a function of wave speed as well as the tube's geometry and material properties, the operational limits of your tube may change from mixture to mixture. Let's take a look at what would happen to our safe operation limits for this tube if we decided to pack it with hydrogen and oxygen instead of propane and air."
   ]
  },
  {
   "cell_type": "code",
   "execution_count": 21,
   "metadata": {},
   "outputs": [],
   "source": [
    "results_file = \"second_mixture_results.h5\"\n",
    "\n",
    "calculate_results = False\n",
    "new_fuel = \"H2\"\n",
    "new_oxidizer = \"O2\"\n",
    "gas2 = ct.Solution(mechanism)\n",
    "gas2.set_equivalence_ratio(1, new_fuel, new_oxidizer)\n",
    "\n",
    "if calculate_results:\n",
    "    results = pd.DataFrame(\n",
    "        columns=[\n",
    "            \"max initial pressure (psi)\",\n",
    "            \"initial temperature (F)\",\n",
    "        ]\n",
    "    )\n",
    "    for i, initial_temperature in enumerate(initial_temperatures):\n",
    "        dims = tube.Tube.get_dimensions(\n",
    "            nps_main,\n",
    "            schedule_main,\n",
    "            unit_registry=ureg\n",
    "        )\n",
    "        max_stress = tube.Tube.calculate_max_stress(\n",
    "            initial_temperature,\n",
    "            material,\n",
    "            welded=False,\n",
    "            unit_registry=ureg\n",
    "        )\n",
    "        max_pressure = tube.Tube.calculate_max_pressure(\n",
    "            dims[\"inner_diameter\"],\n",
    "            dims[\"outer_diameter\"],\n",
    "            max_stress\n",
    "        )\n",
    "        elastic_modulus = tube.Tube.get_elastic_modulus(material, ureg)\n",
    "        density = tube.Tube.get_density(material, ureg)\n",
    "        poisson = tube.Tube.get_poisson(material)\n",
    "        initial_pressure = tube.Tube.calculate_max_initial_pressure(\n",
    "            dims[\"inner_diameter\"],\n",
    "            dims[\"outer_diameter\"],\n",
    "            initial_temperature,\n",
    "            gas2.mole_fraction_dict(),\n",
    "            mechanism,\n",
    "            max_pressure.to(\"Pa\"),\n",
    "            elastic_modulus,\n",
    "            density,\n",
    "            poisson,\n",
    "            use_multiprocessing=False\n",
    "        )\n",
    "\n",
    "        current_results = pd.Series(dtype=\"object\")\n",
    "        current_results[\"max initial pressure (psi)\"] = \\\n",
    "        initial_pressure.to(\"psi\").magnitude\n",
    "        current_results[\"initial temperature (F)\"] = \\\n",
    "            initial_temperature.to(\"degF\").magnitude\n",
    "        results = pd.concat(\n",
    "            (results, current_results.to_frame().T),\n",
    "            ignore_index=True\n",
    "        )\n",
    "    \n",
    "    with warnings.catch_warnings():\n",
    "        warnings.simplefilter(\"ignore\")\n",
    "        with pd.HDFStore(results_file, \"w\") as store:\n",
    "            store.put(\"data\", results)\n",
    "\n",
    "else:\n",
    "    with pd.HDFStore(results_file, \"r\") as store:\n",
    "        results = store.data"
   ]
  },
  {
   "cell_type": "code",
   "execution_count": 22,
   "metadata": {},
   "outputs": [
    {
     "data": {
      "image/png": "[encoded data removed]",
      "text/plain": [
       "<Figure size 432x288 with 1 Axes>"
      ]
     },
     "metadata": {},
     "output_type": "display_data"
    }
   ],
   "source": [
    "results_original[\"mixture\"] = \"original\"\n",
    "results[\"mixture\"] = \"new\"\n",
    "sns.lineplot(\n",
    "    x=\"initial temperature (F)\",\n",
    "    y=\"max initial pressure (psi)\",\n",
    "    data=pd.concat((results_original, results)),\n",
    "    style=\"mixture\",\n",
    "    color=\"k\",\n",
    ")\n",
    "plt.title(\"Mixture comparison\\nMax safe initial pressure vs. Temperature\")\n",
    "sns.despine()"
   ]
  }
 ],
 "metadata": {
  "kernelspec": {
   "display_name": "Python 3",
   "language": "python",
   "name": "python3"
  },
  "language_info": {
   "codemirror_mode": {
    "name": "ipython",
    "version": 3
   },
   "file_extension": ".py",
   "mimetype": "text/x-python",
   "name": "python",
   "nbconvert_exporter": "python",
   "pygments_lexer": "ipython3",
   "version": "3.7.7"
  }
 },
 "nbformat": 4,
 "nbformat_minor": 4
}
